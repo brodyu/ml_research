{
 "cells": [
  {
   "cell_type": "code",
   "execution_count": 58,
   "metadata": {},
   "outputs": [
    {
     "name": "stdout",
     "output_type": "stream",
     "text": [
      "12:05:45\n"
     ]
    }
   ],
   "source": [
    "t = \"12:05:45AM\"\n",
    "def convert_mine(t):\n",
    "    h = int(t[0:2])\n",
    "    r = t[8:10]\n",
    "    if h > 0 and h < 12 and r == 'PM':\n",
    "        t = str(12+h) + t[2:]\n",
    "\n",
    "    return t[:8]\n",
    "print(convert_mine(t))"
   ]
  },
  {
   "cell_type": "code",
   "execution_count": 56,
   "metadata": {},
   "outputs": [],
   "source": [
    "import random\n",
    "\n",
    "def convert24(str1): \n",
    "      \n",
    "    # Checking if last two elements of time \n",
    "    # is AM and first two elements are 12 \n",
    "    if str1[-2:] == \"AM\" and str1[:2] == \"12\": \n",
    "        return \"00\" + str1[2:-2] \n",
    "          \n",
    "    # remove the AM     \n",
    "    elif str1[-2:] == \"AM\": \n",
    "        return str1[:-2] \n",
    "      \n",
    "    # Checking if last two elements of time \n",
    "    # is PM and first two elements are 12    \n",
    "    elif str1[-2:] == \"PM\" and str1[:2] == \"12\": \n",
    "        return str1[:-2] \n",
    "          \n",
    "    else: \n",
    "          \n",
    "        # add 12 to hours and remove PM \n",
    "        return str(int(str1[:2]) + 12) + str1[2:8] \n",
    "    \n",
    "def randomTime():\n",
    "    # generate random number scaled to number of seconds in a day\n",
    "    # (24*60*60) = 86,400\n",
    "\n",
    "    rtime = int(random.random()*86400)\n",
    "\n",
    "    hours   = int(rtime/3600)\n",
    "    minutes = int((rtime - hours*3600)/60)\n",
    "    seconds = rtime - hours*3600 - minutes*60\n",
    "\n",
    "    # figure out AM or PM\n",
    "    if hours >= 12:\n",
    "        suffix = 'PM'\n",
    "        if hours > 12:\n",
    "            hours = hours - 12\n",
    "    else:\n",
    "        suffix = 'AM'\n",
    "\n",
    "    time_string = '%02d:%02d:%02d' % (hours, minutes, seconds)\n",
    "    time_string += '' + suffix\n",
    "    return time_string\n",
    "\n",
    "for i in range(1000000):\n",
    "    rtime = randomTime()\n",
    "    if convert24(rtime) != convert_mine(rtime):\n",
    "        print(rtime, convert24(rtime))"
   ]
  },
  {
   "cell_type": "code",
   "execution_count": 91,
   "metadata": {},
   "outputs": [
    {
     "name": "stdout",
     "output_type": "stream",
     "text": [
      "[0, 2, 3, 4, 1, 5, 6, 7, 1, 2]\n",
      "[0, 0, 0, 0, 0, 0, 0, 0]\n",
      "[1, 2, 2, 1, 1, 1, 1, 1]\n",
      "[1, 3, 5, 6, 7, 8, 9, 10]\n",
      "[0, 0, 0, 0, 0, 0, 0, 0, 0, 0, 0]\n",
      "[0, 0, 0, 0, 0, 2, 0, 0, 0, 0, 0]\n",
      "[0, 0, 0, 0, 0, 2, 3, 0, 0, 0, 0]\n",
      "[0, 0, 0, 0, 0, 2, 3, 4, 0, 0, 0]\n",
      "[0, 0, 0, 1, 0, 2, 3, 4, 0, 0, 0]\n",
      "[0, 0, 0, 1, 0, 2, 3, 4, 5, 0, 0]\n",
      "[0, 0, 0, 1, 0, 2, 3, 4, 5, 6, 0]\n",
      "[0, 0, 0, 1, 0, 2, 3, 4, 5, 6, 7]\n",
      "[0, 0, 1, 1, 0, 2, 3, 4, 5, 6, 7]\n",
      "[0, 0, 1, 1, 2, 2, 3, 4, 5, 6, 7]\n",
      "[0, 0, 1, 1, 2, 2, 3, 4, 5, 6, 7]\n"
     ]
    }
   ],
   "source": [
    "def countingSort(arr):\n",
    "    \n",
    "    print(arr)\n",
    "    size = len(arr)\n",
    "    count_size = max(arr)+1\n",
    "    count = [0] * count_size\n",
    "    print(count)\n",
    "    for x in arr:\n",
    "        count[x] += 1\n",
    "    print(count)\n",
    "    \n",
    "    total = 0\n",
    "    for i in range(1, count_size):\n",
    "        count[i] = count[i] + count[i-1]\n",
    "    print(count)\n",
    "    \n",
    "#   output \n",
    "#   for x in input do\n",
    "#     output[count[key(x)]] = x\n",
    "#     count[key(x)] += 1 \n",
    "    output = [0] * (size+1)\n",
    "    for x in arr:\n",
    "        output[count[x]] = x\n",
    "        count[x] -= 1\n",
    "        print(output)\n",
    "        \n",
    "    print(output)\n",
    "    return output[0:]\n",
    "\n",
    "arr = [0, 0, 2,3,4,1,5,6,7,1,2]\n",
    "countingSort(arr[1:])"
   ]
  },
  {
   "cell_type": "code",
   "execution_count": 104,
   "metadata": {},
   "outputs": [
    {
     "name": "stdout",
     "output_type": "stream",
     "text": [
      "233168\n"
     ]
    }
   ],
   "source": [
    "import math \n",
    "\n",
    "sum_ = 0\n",
    "for n in range(1000):\n",
    "    if n%3 == 0 or n%5 == 0:\n",
    "        sum_ += n\n",
    "print(sum_) "
   ]
  },
  {
   "cell_type": "code",
   "execution_count": null,
   "metadata": {},
   "outputs": [],
   "source": []
  }
 ],
 "metadata": {
  "kernelspec": {
   "display_name": "Python 3",
   "language": "python",
   "name": "python3"
  },
  "language_info": {
   "codemirror_mode": {
    "name": "ipython",
    "version": 3
   },
   "file_extension": ".py",
   "mimetype": "text/x-python",
   "name": "python",
   "nbconvert_exporter": "python",
   "pygments_lexer": "ipython3",
   "version": "3.7.3"
  }
 },
 "nbformat": 4,
 "nbformat_minor": 2
}
